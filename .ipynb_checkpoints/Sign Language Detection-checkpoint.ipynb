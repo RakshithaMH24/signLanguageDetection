{
 "cells": [
  {
   "cell_type": "code",
   "execution_count": 1,
   "id": "d98d9eab-e4c7-4193-bd58-1cb7b4254bc8",
   "metadata": {},
   "outputs": [],
   "source": [
    "import cv2\n",
    "import numpy as np\n",
    "import os\n",
    "from matplotlib import pyplot as plt\n",
    "import time\n",
    "import mediapipe as mp"
   ]
  },
  {
   "cell_type": "code",
   "execution_count": 2,
   "id": "4242301d-a25e-47f8-8170-810d32b65665",
   "metadata": {},
   "outputs": [],
   "source": [
    "mp_holistic = mp.solutions.holistic #Holistic model\n",
    "mp_drawing = mp.solutions.drawing_utils #Drawing utilities"
   ]
  },
  {
   "cell_type": "code",
   "execution_count": 3,
   "id": "13e8cd70-deb3-44c5-bc6c-5a0597c08728",
   "metadata": {},
   "outputs": [],
   "source": [
    "def mediapipe_detection(image, model):\n",
    "    image = cv2.cvtColor(image,cv2.COLOR_BGR2RGB) #COLOR CONVERSION BGR 2 RGB\n",
    "    image.flags.writeable = False        # Image is no longer writable\n",
    "    results = model.process(image)      # Make prediction\n",
    "    image.flags.writeable = True       # Image is now writeable\n",
    "    image = cv2.cvtColor(image, cv2.COLOR_RGB2BGR) #COLOR CONVERSION RGB 2 BGR\n",
    "    return image, results"
   ]
  },
  {
   "cell_type": "code",
   "execution_count": 4,
   "id": "3337d2ef-6442-4717-a786-22a199b77fb9",
   "metadata": {},
   "outputs": [
    {
     "data": {
      "text/plain": [
       "\u001b[31mDocstring:\u001b[39m\n",
       "cvtColor(src, code[, dst[, dstCn[, hint]]]) -> dst\n",
       ".   @brief Converts an image from one color space to another.\n",
       ".   \n",
       ".   The function converts an input image from one color space to another. In case of a transformation\n",
       ".   to-from RGB color space, the order of the channels should be specified explicitly (RGB or BGR). Note\n",
       ".   that the default color format in OpenCV is often referred to as RGB but it is actually BGR (the\n",
       ".   bytes are reversed). So the first byte in a standard (24-bit) color image will be an 8-bit Blue\n",
       ".   component, the second byte will be Green, and the third byte will be Red. The fourth, fifth, and\n",
       ".   sixth bytes would then be the second pixel (Blue, then Green, then Red), and so on.\n",
       ".   \n",
       ".   The conventional ranges for R, G, and B channel values are:\n",
       ".   -   0 to 255 for CV_8U images\n",
       ".   -   0 to 65535 for CV_16U images\n",
       ".   -   0 to 1 for CV_32F images\n",
       ".   \n",
       ".   In case of linear transformations, the range does not matter. But in case of a non-linear\n",
       ".   transformation, an input RGB image should be normalized to the proper value range to get the correct\n",
       ".   results, for example, for RGB \\f$\\rightarrow\\f$ L\\*u\\*v\\* transformation. For example, if you have a\n",
       ".   32-bit floating-point image directly converted from an 8-bit image without any scaling, then it will\n",
       ".   have the 0..255 value range instead of 0..1 assumed by the function. So, before calling #cvtColor ,\n",
       ".   you need first to scale the image down:\n",
       ".   @code\n",
       ".       img *= 1./255;\n",
       ".       cvtColor(img, img, COLOR_BGR2Luv);\n",
       ".   @endcode\n",
       ".   If you use #cvtColor with 8-bit images, the conversion will have some information lost. For many\n",
       ".   applications, this will not be noticeable but it is recommended to use 32-bit images in applications\n",
       ".   that need the full range of colors or that convert an image before an operation and then convert\n",
       ".   back.\n",
       ".   \n",
       ".   If conversion adds the alpha channel, its value will set to the maximum of corresponding channel\n",
       ".   range: 255 for CV_8U, 65535 for CV_16U, 1 for CV_32F.\n",
       ".   \n",
       ".   @param src input image: 8-bit unsigned, 16-bit unsigned ( CV_16UC... ), or single-precision\n",
       ".   floating-point.\n",
       ".   @param dst output image of the same size and depth as src.\n",
       ".   @param code color space conversion code (see #ColorConversionCodes).\n",
       ".   @param dstCn number of channels in the destination image; if the parameter is 0, the number of the\n",
       ".   channels is derived automatically from src and code.\n",
       ".   @param hint Implementation modfication flags. See #AlgorithmHint\n",
       ".   \n",
       ".   @see @ref imgproc_color_conversions\n",
       "\u001b[31mType:\u001b[39m      builtin_function_or_method"
      ]
     },
     "metadata": {},
     "output_type": "display_data"
    }
   ],
   "source": [
    "cv2.cvtColor??"
   ]
  },
  {
   "cell_type": "code",
   "execution_count": null,
   "id": "2277395d-5944-41fd-8eba-88d21cf3e7bc",
   "metadata": {},
   "outputs": [],
   "source": [
    "cap = cv2.VideoCapture(0)\n",
    "# Set mediapipe model \n",
    "with mp_holistic.Holistic(min_detection_confidence=0.5, min_tracking_confidence=0.5) as holistic:\n",
    "    while cap.isOpened():\n",
    "\n",
    "        # Read feed\n",
    "        ret, frame = cap.read()\n",
    "\n",
    "        # Make detections\n",
    "        image, results = mediapipe_detection(frame, holistic)\n",
    "        print(results)\n",
    "        \n",
    "        # Show to screen\n",
    "        cv2.imshow('OpenCV Feed', image)\n",
    "\n",
    "        # Break gracefully\n",
    "        if cv2.waitKey(10) & 0xFF == ord('q'):\n",
    "            break\n",
    "    cap.release()\n",
    "    cv2.destroyAllWindows()"
   ]
  },
  {
   "cell_type": "code",
   "execution_count": 6,
   "id": "cdcdd5bf-bc2f-4b03-be9f-aeb20c290675",
   "metadata": {},
   "outputs": [
    {
     "data": {
      "text/plain": [
       "21"
      ]
     },
     "execution_count": 6,
     "metadata": {},
     "output_type": "execute_result"
    }
   ],
   "source": [
    "len(results.left_hand_landmarks.landmark)"
   ]
  },
  {
   "cell_type": "code",
   "execution_count": null,
   "id": "05ee9d90-207b-4a57-bc4f-5c2d3e9b91d0",
   "metadata": {},
   "outputs": [],
   "source": []
  }
 ],
 "metadata": {
  "kernelspec": {
   "display_name": "Python 3 (ipykernel)",
   "language": "python",
   "name": "python3"
  },
  "language_info": {
   "codemirror_mode": {
    "name": "ipython",
    "version": 3
   },
   "file_extension": ".py",
   "mimetype": "text/x-python",
   "name": "python",
   "nbconvert_exporter": "python",
   "pygments_lexer": "ipython3",
   "version": "3.12.1"
  }
 },
 "nbformat": 4,
 "nbformat_minor": 5
}
